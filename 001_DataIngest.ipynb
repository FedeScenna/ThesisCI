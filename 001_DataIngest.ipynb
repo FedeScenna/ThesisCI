{
 "cells": [
  {
   "cell_type": "code",
   "execution_count": 18,
   "metadata": {},
   "outputs": [],
   "source": [
    "import pandas as pd\n",
    "from utils import w_dir, w_asr, w_cloud, w_expense, w_may, w_pl, w_sales"
   ]
  },
  {
   "cell_type": "markdown",
   "metadata": {},
   "source": [
    "### Read Data\n",
    "from \n",
    "https://www.kaggle.com/datasets/thedevastator/unlock-profits-with-e-commerce-sales-data?select=Cloud+Warehouse+Compersion+Chart.csv"
   ]
  },
  {
   "cell_type": "code",
   "execution_count": 19,
   "metadata": {},
   "outputs": [
    {
     "name": "stderr",
     "output_type": "stream",
     "text": [
      "/tmp/ipykernel_7933/2045193014.py:1: DtypeWarning: Columns (23) have mixed types. Specify dtype option on import or set low_memory=False.\n",
      "  amzn_sale_r = pd.read_csv(w_dir + w_asr)\n"
     ]
    }
   ],
   "source": [
    "amzn_sale_r = pd.read_csv(w_dir + w_asr)\n",
    "cloud = pd.read_csv(w_dir + w_cloud)\n",
    "expenses = pd.read_csv(w_dir + w_expense)\n",
    "may  = pd.read_csv(w_dir + w_may)\n",
    "pl = pd.read_csv(w_dir + w_pl)\n",
    "intsales = pd.read_csv(w_dir + w_sales)"
   ]
  },
  {
   "cell_type": "code",
   "execution_count": 20,
   "metadata": {},
   "outputs": [
    {
     "name": "stdout",
     "output_type": "stream",
     "text": [
      "<class 'pandas.core.frame.DataFrame'>\n",
      "Int64Index: 109704 entries, 1 to 128974\n",
      "Data columns (total 26 columns):\n",
      " #   Column              Non-Null Count   Dtype         \n",
      "---  ------              --------------   -----         \n",
      " 0   index               109704 non-null  int64         \n",
      " 1   Order ID            109704 non-null  object        \n",
      " 2   Date                109704 non-null  datetime64[ns]\n",
      " 3   Status              109704 non-null  object        \n",
      " 4   Fulfilment          109704 non-null  object        \n",
      " 5   Sales Channel       109704 non-null  object        \n",
      " 6   ship-service-level  109704 non-null  object        \n",
      " 7   Style               109704 non-null  object        \n",
      " 8   SKU                 109704 non-null  object        \n",
      " 9   Category            109704 non-null  object        \n",
      " 10  Size                109704 non-null  object        \n",
      " 11  ASIN                109704 non-null  object        \n",
      " 12  Courier Status      109693 non-null  object        \n",
      " 13  Qty                 109704 non-null  int64         \n",
      " 14  currency            109477 non-null  object        \n",
      " 15  Amount              109477 non-null  float64       \n",
      " 16  ship-city           109678 non-null  object        \n",
      " 17  ship-state          109678 non-null  object        \n",
      " 18  ship-postal-code    109678 non-null  float64       \n",
      " 19  ship-country        109678 non-null  object        \n",
      " 20  promotion-ids       78743 non-null   object        \n",
      " 21  B2B                 109704 non-null  bool          \n",
      " 22  fulfilled-by        31892 non-null   object        \n",
      " 23  Day                 109704 non-null  object        \n",
      " 24  Month               109704 non-null  object        \n",
      " 25  Year                109704 non-null  int64         \n",
      "dtypes: bool(1), datetime64[ns](1), float64(2), int64(3), object(19)\n",
      "memory usage: 21.9+ MB\n"
     ]
    }
   ],
   "source": [
    "amzn_sale_r.drop(\"Unnamed: 22\", axis = 1, inplace = True)\n",
    "amzn_sale_r = amzn_sale_r[amzn_sale_r[\"Status\"].str.contains(\"Shipp\")]\n",
    "amzn_sale_r = amzn_sale_r[amzn_sale_r[\"Qty\"]>0]\n",
    "amzn_sale_r[\"Date\"] = pd.to_datetime(amzn_sale_r[\"Date\"])\n",
    "amzn_sale_r['Day'] = amzn_sale_r['Date'].dt.day_name()\n",
    "amzn_sale_r['Month'] = amzn_sale_r['Date'].dt.month_name()\n",
    "amzn_sale_r['Year'] = amzn_sale_r['Date'].dt.year\n",
    "\n",
    "amzn_sale_r.info()"
   ]
  },
  {
   "cell_type": "code",
   "execution_count": 22,
   "metadata": {},
   "outputs": [
    {
     "data": {
      "text/html": [
       "<div>\n",
       "<style scoped>\n",
       "    .dataframe tbody tr th:only-of-type {\n",
       "        vertical-align: middle;\n",
       "    }\n",
       "\n",
       "    .dataframe tbody tr th {\n",
       "        vertical-align: top;\n",
       "    }\n",
       "\n",
       "    .dataframe thead th {\n",
       "        text-align: right;\n",
       "    }\n",
       "</style>\n",
       "<table border=\"1\" class=\"dataframe\">\n",
       "  <thead>\n",
       "    <tr style=\"text-align: right;\">\n",
       "      <th></th>\n",
       "      <th>Amount</th>\n",
       "    </tr>\n",
       "    <tr>\n",
       "      <th>Qty</th>\n",
       "      <th></th>\n",
       "    </tr>\n",
       "  </thead>\n",
       "  <tbody>\n",
       "    <tr>\n",
       "      <th>0</th>\n",
       "      <td>0.0</td>\n",
       "    </tr>\n",
       "    <tr>\n",
       "      <th>1</th>\n",
       "      <td>70598700.0</td>\n",
       "    </tr>\n",
       "    <tr>\n",
       "      <th>2</th>\n",
       "      <td>371184.0</td>\n",
       "    </tr>\n",
       "    <tr>\n",
       "      <th>3</th>\n",
       "      <td>49863.0</td>\n",
       "    </tr>\n",
       "    <tr>\n",
       "      <th>4</th>\n",
       "      <td>17984.0</td>\n",
       "    </tr>\n",
       "    <tr>\n",
       "      <th>5</th>\n",
       "      <td>7670.0</td>\n",
       "    </tr>\n",
       "    <tr>\n",
       "      <th>8</th>\n",
       "      <td>5584.0</td>\n",
       "    </tr>\n",
       "    <tr>\n",
       "      <th>9</th>\n",
       "      <td>0.0</td>\n",
       "    </tr>\n",
       "    <tr>\n",
       "      <th>13</th>\n",
       "      <td>0.0</td>\n",
       "    </tr>\n",
       "    <tr>\n",
       "      <th>15</th>\n",
       "      <td>0.0</td>\n",
       "    </tr>\n",
       "  </tbody>\n",
       "</table>\n",
       "</div>"
      ],
      "text/plain": [
       "         Amount\n",
       "Qty            \n",
       "0           0.0\n",
       "1    70598700.0\n",
       "2      371184.0\n",
       "3       49863.0\n",
       "4       17984.0\n",
       "5        7670.0\n",
       "8        5584.0\n",
       "9           0.0\n",
       "13          0.0\n",
       "15          0.0"
      ]
     },
     "execution_count": 22,
     "metadata": {},
     "output_type": "execute_result"
    }
   ],
   "source": [
    "amzn_sale_r[[\"Qty\",\"Size\",\"Amount\"]].groupby(\"Qty\").agg({\"Amount\":\"sum\"})"
   ]
  },
  {
   "cell_type": "code",
   "execution_count": null,
   "metadata": {},
   "outputs": [],
   "source": []
  },
  {
   "cell_type": "code",
   "execution_count": null,
   "metadata": {},
   "outputs": [],
   "source": []
  },
  {
   "cell_type": "code",
   "execution_count": null,
   "metadata": {},
   "outputs": [],
   "source": []
  },
  {
   "cell_type": "markdown",
   "metadata": {},
   "source": [
    "### Merge data"
   ]
  }
 ],
 "metadata": {
  "kernelspec": {
   "display_name": "Python 3",
   "language": "python",
   "name": "python3"
  },
  "language_info": {
   "codemirror_mode": {
    "name": "ipython",
    "version": 3
   },
   "file_extension": ".py",
   "mimetype": "text/x-python",
   "name": "python",
   "nbconvert_exporter": "python",
   "pygments_lexer": "ipython3",
   "version": "3.11.0"
  },
  "orig_nbformat": 4
 },
 "nbformat": 4,
 "nbformat_minor": 2
}
